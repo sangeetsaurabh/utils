{
 "cells": [
  {
   "cell_type": "markdown",
   "metadata": {},
   "source": [
    "### NMF example\n",
    "\n",
    "Rather than constraining our factors to be orthogonal, another idea would to constrain them to be non-negative. NMF is a factorization of a non-negative data set  𝑉 :\n",
    "𝑉=𝑊𝐻\n",
    " \n",
    "into non-negative matrices  𝑊,𝐻 . Often positive factors will be more easily interpretable (and this is the reason behind NMF's popularity).\n",
    "\n",
    "A couple of good videos to watch on this topic -\n",
    "\n",
    "1. https://www.youtube.com/watch?v=o4pPTwsd-5M\n"
   ]
  },
  {
   "cell_type": "code",
   "execution_count": 41,
   "metadata": {},
   "outputs": [],
   "source": [
    "import pandas as pd\n",
    "import numpy as np\n",
    "import json\n",
    "import zipfile\n",
    "import os\n",
    "import time\n",
    "\n",
    "from sklearn import preprocessing\n",
    "import matplotlib.pyplot as plt\n",
    "\n",
    "from sklearn.decomposition import PCA\n",
    "from sklearn.manifold import TSNE\n",
    "from sklearn.cluster import KMeans\n",
    "from sklearn.mixture import GaussianMixture\n",
    "from sklearn.datasets import fetch_20newsgroups\n",
    "from sklearn import decomposition\n",
    "\n",
    "\n",
    "from sklearn.datasets import load_iris\n",
    "from sklearn.decomposition import TruncatedSVD\n",
    "from sklearn.feature_extraction.text import CountVectorizer, TfidfVectorizer\n",
    "from scipy import linalg"
   ]
  },
  {
   "cell_type": "markdown",
   "metadata": {},
   "source": [
    "### Download the data to run NMF and TF_IDF"
   ]
  },
  {
   "cell_type": "code",
   "execution_count": 3,
   "metadata": {},
   "outputs": [],
   "source": [
    "categories = ['alt.atheism', 'talk.religion.misc', 'comp.graphics', 'sci.space']\n",
    "remove = ('headers', 'footers', 'quotes')\n",
    "newsgroups_train = fetch_20newsgroups(subset='train', categories=categories, remove=remove)\n",
    "newsgroups_test = fetch_20newsgroups(subset='test', categories=categories, remove=remove)"
   ]
  },
  {
   "cell_type": "code",
   "execution_count": 4,
   "metadata": {},
   "outputs": [
    {
     "data": {
      "text/plain": [
       "((2034,), (2034,))"
      ]
     },
     "execution_count": 4,
     "metadata": {},
     "output_type": "execute_result"
    }
   ],
   "source": [
    "newsgroups_train.filenames.shape, newsgroups_train.target.shape"
   ]
  },
  {
   "cell_type": "code",
   "execution_count": 5,
   "metadata": {},
   "outputs": [
    {
     "name": "stdout",
     "output_type": "stream",
     "text": [
      "['alt.atheism', 'comp.graphics', 'sci.space', 'talk.religion.misc']\n",
      "[0 1 2 3]\n"
     ]
    }
   ],
   "source": [
    "print(newsgroups_train.target_names)\n",
    "print(np.unique(newsgroups_train.target))"
   ]
  },
  {
   "cell_type": "code",
   "execution_count": 6,
   "metadata": {},
   "outputs": [
    {
     "name": "stdout",
     "output_type": "stream",
     "text": [
      "Hi,\n",
      "\n",
      "I've noticed that if you only save a model (with all your mapping planes\n",
      "positioned carefully) to a .3DS file that when you reload it after restarting\n",
      "3DS, they are given a default position and orientation.  But if you save\n",
      "to a .PRJ file their positions/orientation are preserved.  Does anyone\n",
      "know why this information is not stored in the .3DS file?  Nothing is\n",
      "explicitly said in the manual about saving texture rules in the .PRJ file. \n",
      "I'd like to be able to read the texture rule information, does anyone have \n",
      "the format for the .PRJ file?\n",
      "\n",
      "Is the .CEL file format available from somewhere?\n",
      "\n",
      "Rych\n",
      "\n",
      "\n",
      "Seems to be, barring evidence to the contrary, that Koresh was simply\n",
      "another deranged fanatic who thought it neccessary to take a whole bunch of\n",
      "folks with him, children and all, to satisfy his delusional mania. Jim\n",
      "Jones, circa 1993.\n",
      "\n",
      "\n",
      "Nope - fruitcakes like Koresh have been demonstrating such evil corruption\n",
      "for centuries.\n",
      "\n",
      " >In article <1993Apr19.020359.26996@sq.sq.com>, msb@sq.sq.com (Mark Brader) \n",
      "\n",
      "MB>                                                             So the\n",
      "MB> 1970 figure seems unlikely to actually be anything but a perijove.\n",
      "\n",
      "JG>Sorry, _perijoves_...I'm not used to talking this language.\n",
      "\n",
      "Couldn't we just say periapsis or apoapsis?\n",
      "\n",
      " \n"
     ]
    }
   ],
   "source": [
    "print(\"\\n\".join(newsgroups_train.data[:3]))"
   ]
  },
  {
   "cell_type": "code",
   "execution_count": 7,
   "metadata": {},
   "outputs": [
    {
     "data": {
      "text/plain": [
       "array(['comp.graphics', 'talk.religion.misc', 'sci.space'], dtype='<U18')"
      ]
     },
     "execution_count": 7,
     "metadata": {},
     "output_type": "execute_result"
    }
   ],
   "source": [
    "np.array(newsgroups_train.target_names)[newsgroups_train.target[:3]]"
   ]
  },
  {
   "cell_type": "code",
   "execution_count": 8,
   "metadata": {},
   "outputs": [
    {
     "data": {
      "text/plain": [
       "(2034, 26576)"
      ]
     },
     "execution_count": 8,
     "metadata": {},
     "output_type": "execute_result"
    }
   ],
   "source": [
    "vectorizer = CountVectorizer(stop_words='english')\n",
    "x_input = vectorizer.fit_transform(newsgroups_train.data).todense()\n",
    "x_input.shape"
   ]
  },
  {
   "cell_type": "code",
   "execution_count": 9,
   "metadata": {},
   "outputs": [
    {
     "data": {
      "text/plain": [
       "(26576,)"
      ]
     },
     "execution_count": 9,
     "metadata": {},
     "output_type": "execute_result"
    }
   ],
   "source": [
    "vocab = np.array(vectorizer.get_feature_names())\n",
    "vocab.shape"
   ]
  },
  {
   "cell_type": "code",
   "execution_count": 10,
   "metadata": {
    "scrolled": true
   },
   "outputs": [
    {
     "data": {
      "text/plain": [
       "array(['cosmonauts', 'cosmos', 'cosponsored', 'cost', 'costa', 'costar',\n",
       "       'costing', 'costly', 'costruction', 'costs', 'cosy', 'cote',\n",
       "       'couched', 'couldn', 'council', 'councils', 'counsel',\n",
       "       'counselees', 'counselor', 'count'], dtype='<U80')"
      ]
     },
     "execution_count": 10,
     "metadata": {},
     "output_type": "execute_result"
    }
   ],
   "source": [
    "vocab[7000:7020]"
   ]
  },
  {
   "cell_type": "code",
   "execution_count": 36,
   "metadata": {},
   "outputs": [
    {
     "data": {
      "text/plain": [
       "(array([0, 1, 2, 3]), array([480, 584, 593, 377]))"
      ]
     },
     "execution_count": 36,
     "metadata": {},
     "output_type": "execute_result"
    }
   ],
   "source": [
    "np.unique(newsgroups_train.target, return_counts=True)"
   ]
  },
  {
   "cell_type": "code",
   "execution_count": 37,
   "metadata": {},
   "outputs": [
    {
     "data": {
      "text/plain": [
       "['alt.atheism', 'comp.graphics', 'sci.space', 'talk.religion.misc']"
      ]
     },
     "execution_count": 37,
     "metadata": {},
     "output_type": "execute_result"
    }
   ],
   "source": [
    "newsgroups_train.target_names"
   ]
  },
  {
   "cell_type": "markdown",
   "metadata": {},
   "source": [
    "_All classes are uniformly distributed._"
   ]
  },
  {
   "cell_type": "markdown",
   "metadata": {},
   "source": [
    "#### Calculate NMF"
   ]
  },
  {
   "cell_type": "code",
   "execution_count": 12,
   "metadata": {
    "scrolled": true
   },
   "outputs": [],
   "source": [
    "m,n = x_input.shape\n",
    "d=10  # num topics"
   ]
  },
  {
   "cell_type": "code",
   "execution_count": 16,
   "metadata": {},
   "outputs": [],
   "source": [
    "clf = decomposition.NMF(n_components=d, random_state=1)\n",
    "\n",
    "W1 = clf.fit_transform(x_input)\n",
    "H1 = clf.components_"
   ]
  },
  {
   "cell_type": "code",
   "execution_count": 24,
   "metadata": {},
   "outputs": [
    {
     "data": {
      "text/plain": [
       "(2034, 10)"
      ]
     },
     "execution_count": 24,
     "metadata": {},
     "output_type": "execute_result"
    }
   ],
   "source": [
    "W1.shape"
   ]
  },
  {
   "cell_type": "code",
   "execution_count": 18,
   "metadata": {},
   "outputs": [
    {
     "data": {
      "text/plain": [
       "(10, 26576)"
      ]
     },
     "execution_count": 18,
     "metadata": {},
     "output_type": "execute_result"
    }
   ],
   "source": [
    "H1.shape"
   ]
  },
  {
   "cell_type": "markdown",
   "metadata": {},
   "source": [
    "### Figure out top words in the top 10 components"
   ]
  },
  {
   "cell_type": "code",
   "execution_count": 20,
   "metadata": {},
   "outputs": [],
   "source": [
    "num_top_words=8\n",
    "\n",
    "def show_topics(a):\n",
    "    top_words = lambda t: [vocab[i] for i in np.argsort(t)[-num_top_words-1:]]\n",
    "    topic_words = ([top_words(t) for t in a])\n",
    "    return [' '.join(t) for t in topic_words]"
   ]
  },
  {
   "cell_type": "code",
   "execution_count": 21,
   "metadata": {
    "scrolled": true
   },
   "outputs": [
    {
     "data": {
      "text/plain": [
       "['version quality format images color file gif image jpeg',\n",
       " 'ftp 3d send 128 ray mail pub graphics edu',\n",
       " 'services data year satellites market commercial satellite space launch',\n",
       " 'psalm isaiah david messiah said people prophecy matthew jesus',\n",
       " 'tool tools edu images analysis software processing data image',\n",
       " 'just does people religion believe religious atheism atheists god',\n",
       " 'sci list propulsion available information center shuttle nasa space',\n",
       " 'space earth orbit probes surface moon mars lunar probe',\n",
       " 'false premises argumentum ad true example conclusion fallacy argument',\n",
       " 'contact sgi pub graphics image edu ftp available data']"
      ]
     },
     "execution_count": 21,
     "metadata": {},
     "output_type": "execute_result"
    }
   ],
   "source": [
    "### Using abs as we need to pick up words that have either +ve or -ve heavy weights\n",
    "show_topics(np.abs(H1[0:10]))"
   ]
  },
  {
   "cell_type": "markdown",
   "metadata": {},
   "source": [
    "#### Find some documents that has these words"
   ]
  },
  {
   "cell_type": "code",
   "execution_count": 25,
   "metadata": {},
   "outputs": [
    {
     "data": {
      "text/plain": [
       "2034"
      ]
     },
     "execution_count": 25,
     "metadata": {},
     "output_type": "execute_result"
    }
   ],
   "source": [
    "### First convert the document to lowercase\n",
    "\n",
    "newsgroups_train[\"lower_data\"] = []\n",
    "for item in newsgroups_train.data:\n",
    "    newsgroups_train[\"lower_data\"].append(item.lower())\n",
    "len(newsgroups_train[\"lower_data\"])"
   ]
  },
  {
   "cell_type": "code",
   "execution_count": 39,
   "metadata": {},
   "outputs": [
    {
     "data": {
      "text/plain": [
       "(array([  53,   90,  119,  154,  184,  205,  239,  312,  351,  358,  459,\n",
       "         481,  499,  553,  566,  570,  581,  697,  698,  715,  722,  839,\n",
       "         873,  874,  927, 1018, 1028, 1042, 1139, 1141, 1154, 1217, 1238,\n",
       "        1258, 1278, 1290, 1312, 1322, 1332, 1406, 1425, 1426, 1454, 1459,\n",
       "        1518, 1527, 1578, 1590, 1600, 1628, 1634, 1661, 1679, 1682, 1691,\n",
       "        1718, 1723, 1733, 1762, 1775, 1786, 1799, 1803, 1912, 1936, 2008,\n",
       "        2011]),)"
      ]
     },
     "execution_count": 39,
     "metadata": {},
     "output_type": "execute_result"
    }
   ],
   "source": [
    "### search for the document that has the text\n",
    "a = np.char.find(newsgroups_train.lower_data,'gif')\n",
    "idx_document = np.where(a != -1)\n",
    "idx_document"
   ]
  },
  {
   "cell_type": "code",
   "execution_count": 33,
   "metadata": {
    "scrolled": true
   },
   "outputs": [
    {
     "name": "stdout",
     "output_type": "stream",
     "text": [
      "sci.space\n",
      "comp.graphics\n",
      "alt.atheism\n",
      "talk.religion.misc\n",
      "comp.graphics\n",
      "comp.graphics\n",
      "comp.graphics\n",
      "comp.graphics\n",
      "comp.graphics\n",
      "comp.graphics\n",
      "comp.graphics\n",
      "sci.space\n",
      "comp.graphics\n",
      "sci.space\n",
      "talk.religion.misc\n",
      "comp.graphics\n",
      "comp.graphics\n",
      "comp.graphics\n",
      "sci.space\n",
      "comp.graphics\n",
      "comp.graphics\n",
      "sci.space\n",
      "sci.space\n",
      "comp.graphics\n",
      "comp.graphics\n",
      "comp.graphics\n",
      "comp.graphics\n",
      "alt.atheism\n",
      "comp.graphics\n",
      "sci.space\n",
      "talk.religion.misc\n",
      "comp.graphics\n",
      "comp.graphics\n",
      "comp.graphics\n",
      "comp.graphics\n",
      "comp.graphics\n",
      "comp.graphics\n",
      "comp.graphics\n",
      "comp.graphics\n",
      "comp.graphics\n",
      "alt.atheism\n",
      "comp.graphics\n",
      "comp.graphics\n",
      "comp.graphics\n",
      "talk.religion.misc\n",
      "comp.graphics\n",
      "comp.graphics\n",
      "sci.space\n",
      "comp.graphics\n",
      "comp.graphics\n",
      "comp.graphics\n",
      "comp.graphics\n",
      "sci.space\n",
      "sci.space\n",
      "sci.space\n",
      "comp.graphics\n",
      "comp.graphics\n",
      "comp.graphics\n",
      "comp.graphics\n",
      "comp.graphics\n",
      "comp.graphics\n",
      "comp.graphics\n",
      "comp.graphics\n",
      "comp.graphics\n",
      "comp.graphics\n",
      "comp.graphics\n",
      "talk.religion.misc\n"
     ]
    }
   ],
   "source": [
    "for label_id in newsgroups_train.target[idx_document]:\n",
    "    print(newsgroups_train.target_names[label_id])"
   ]
  },
  {
   "cell_type": "markdown",
   "metadata": {},
   "source": [
    "_It appears that these component is more inclined towards comp.graphics._"
   ]
  },
  {
   "cell_type": "code",
   "execution_count": 36,
   "metadata": {},
   "outputs": [
    {
     "data": {
      "text/plain": [
       "(array([0, 1, 2, 3]), array([480, 584, 593, 377]))"
      ]
     },
     "execution_count": 36,
     "metadata": {},
     "output_type": "execute_result"
    }
   ],
   "source": [
    "np.unique(newsgroups_train.target, return_counts=True)"
   ]
  },
  {
   "cell_type": "code",
   "execution_count": 37,
   "metadata": {},
   "outputs": [
    {
     "data": {
      "text/plain": [
       "['alt.atheism', 'comp.graphics', 'sci.space', 'talk.religion.misc']"
      ]
     },
     "execution_count": 37,
     "metadata": {},
     "output_type": "execute_result"
    }
   ],
   "source": [
    "newsgroups_train.target_names"
   ]
  },
  {
   "cell_type": "markdown",
   "metadata": {},
   "source": [
    "### Calculate tf_idf for the documents"
   ]
  },
  {
   "cell_type": "code",
   "execution_count": 47,
   "metadata": {},
   "outputs": [],
   "source": [
    "vectorizer_tfidf = TfidfVectorizer(stop_words='english')\n",
    "#vectorizer_tfidf = TfidfVectorizer()\n",
    "vectors_tfidf = vectorizer_tfidf.fit_transform(newsgroups_train.data) # (documents, vocab)"
   ]
  },
  {
   "cell_type": "code",
   "execution_count": 48,
   "metadata": {},
   "outputs": [
    {
     "data": {
      "text/plain": [
       "(2034, 26576)"
      ]
     },
     "execution_count": 48,
     "metadata": {},
     "output_type": "execute_result"
    }
   ],
   "source": [
    "vectors_tfidf.shape"
   ]
  },
  {
   "cell_type": "code",
   "execution_count": 49,
   "metadata": {},
   "outputs": [
    {
     "name": "stdout",
     "output_type": "stream",
     "text": [
      "  (0, 21025)\t0.1458931413020125\n",
      "  (0, 3998)\t0.07036762966055367\n",
      "  (0, 5546)\t0.1458931413020125\n",
      "  (0, 10605)\t0.16717988448915072\n",
      "  (0, 20973)\t0.09485258934884024\n",
      "  (0, 19841)\t0.06346990252225734\n",
      "  (0, 2408)\t0.0740617740444856\n",
      "  (0, 14706)\t0.046643803845554874\n",
      "  (0, 20977)\t0.09029017643192268\n",
      "  (0, 23828)\t0.2258173261964949\n",
      "  (0, 21208)\t0.10761272733713331\n",
      "  (0, 15301)\t0.1064966894139308\n",
      "  (0, 21084)\t0.06206087717654851\n",
      "  (0, 9848)\t0.1064966894139308\n",
      "  (0, 22878)\t0.11143515786946494\n",
      "  (0, 13023)\t0.13924444936699948\n",
      "  (0, 14154)\t0.04763446792799959\n",
      "  (0, 8554)\t0.10162931867025875\n",
      "  (0, 18949)\t0.13313300331371947\n",
      "  (0, 18704)\t0.10260670288726481\n",
      "  (0, 19066)\t0.4152868172245007\n",
      "  (0, 17464)\t0.22287031573892988\n",
      "  (0, 18699)\t0.0823823626717928\n",
      "  (0, 7698)\t0.11451045447542962\n",
      "  (0, 11203)\t0.07006583621645067\n",
      "  :\t:\n",
      "  (2032, 5893)\t0.0865825827883191\n",
      "  (2032, 11856)\t0.058644602949810304\n",
      "  (2032, 3463)\t0.07548272575460073\n",
      "  (2032, 3834)\t0.06627380676073108\n",
      "  (2032, 11291)\t0.04827424514898305\n",
      "  (2032, 24506)\t0.15914123694486385\n",
      "  (2032, 14870)\t0.08032066251733085\n",
      "  (2032, 5601)\t0.06894476017854519\n",
      "  (2032, 15560)\t0.054612590426586095\n",
      "  (2032, 16632)\t0.04785162876844789\n",
      "  (2032, 11326)\t0.30854368799287846\n",
      "  (2032, 11766)\t0.07296517358379942\n",
      "  (2032, 4375)\t0.2013726715113857\n",
      "  (2032, 8555)\t0.05365335937161419\n",
      "  (2032, 8591)\t0.03711866463525761\n",
      "  (2032, 21219)\t0.058644602949810304\n",
      "  (2032, 22718)\t0.06652002575370224\n",
      "  (2032, 9694)\t0.054178493918831075\n",
      "  (2032, 4605)\t0.05324639750159772\n",
      "  (2032, 9437)\t0.09112625486074018\n",
      "  (2032, 19877)\t0.050179482541095194\n",
      "  (2032, 21217)\t0.09132592933188058\n",
      "  (2032, 13905)\t0.0374221212093411\n",
      "  (2032, 14706)\t0.03711866463525761\n",
      "  (2032, 8554)\t0.04043778900753784\n"
     ]
    }
   ],
   "source": [
    "print(vectors_tfidf)"
   ]
  },
  {
   "cell_type": "markdown",
   "metadata": {},
   "source": [
    "#### Analyze _idf values"
   ]
  },
  {
   "cell_type": "code",
   "execution_count": 51,
   "metadata": {},
   "outputs": [
    {
     "data": {
      "text/plain": [
       "(26576,)"
      ]
     },
     "execution_count": 51,
     "metadata": {},
     "output_type": "execute_result"
    }
   ],
   "source": [
    "vectorizer_tfidf.idf_.shape"
   ]
  },
  {
   "cell_type": "markdown",
   "metadata": {},
   "source": [
    "#### Analyze the top 5 and bottom 5 idf values"
   ]
  },
  {
   "cell_type": "code",
   "execution_count": 58,
   "metadata": {},
   "outputs": [
    {
     "data": {
      "text/plain": [
       "array([ 6692, 16226, 16227, 16213, 13287])"
      ]
     },
     "execution_count": 58,
     "metadata": {},
     "output_type": "execute_result"
    }
   ],
   "source": [
    "### words with highest idf_ values (i.e. less frequent words)\n",
    "np.argsort(vectorizer_tfidf.idf_)[-5:]"
   ]
  },
  {
   "cell_type": "code",
   "execution_count": 66,
   "metadata": {},
   "outputs": [
    {
     "data": {
      "text/plain": [
       "6692"
      ]
     },
     "execution_count": 66,
     "metadata": {},
     "output_type": "execute_result"
    }
   ],
   "source": [
    "word_id_to_review = np.argsort(vectorizer_tfidf.idf_)[-5:][0]\n",
    "word_id_to_review"
   ]
  },
  {
   "cell_type": "code",
   "execution_count": 67,
   "metadata": {},
   "outputs": [
    {
     "name": "stdout",
     "output_type": "stream",
     "text": [
      "746 6692 0.04517145895198725\n"
     ]
    }
   ],
   "source": [
    "### Let's look at 6692\n",
    "cx = vectors_tfidf.tocoo()    \n",
    "for i,j,v in zip(cx.row, cx.col, cx.data):\n",
    "    if j == word_id_to_review:\n",
    "        print (i,j,v)"
   ]
  },
  {
   "cell_type": "code",
   "execution_count": 69,
   "metadata": {},
   "outputs": [
    {
     "data": {
      "text/plain": [
       "'consign'"
      ]
     },
     "execution_count": 69,
     "metadata": {},
     "output_type": "execute_result"
    }
   ],
   "source": [
    "reverse_key = {}\n",
    "for key, value in vectorizer_tfidf.vocabulary_.items():\n",
    "    reverse_key[value] = key\n",
    "reverse_key[6692]"
   ]
  },
  {
   "cell_type": "code",
   "execution_count": 70,
   "metadata": {},
   "outputs": [
    {
     "data": {
      "text/plain": [
       "'In <lsjc8cINNmc1@saltillo.cs.utexas.edu> turpin@cs.utexas.edu (Russell Turpin)\\n\\n\\nI regard love as no more or less \"benign\" than any other Christian does.\\nYou are merely expressing \"approval\" of the consequences I find therein.\\nWhich says more about our politics and cultural trappings than about my\\n(or any) religion.  \"Love\" is a highly ambiguous word, of which Christians\\ncan write both the \"gentle\" words Paul uses of it in 1 Corinthians -- in\\na passage that even the \"conservatives\" will quote at you :-) -- and the\\nwords of T. S. Eliot in his Pentacost Hymn, \"Love is the unfamiliar Name\\nthat wove the intolerable shirt of flame ...\"\\n\\nThis is in any case rather to the side of what I was attempting to raise\\nin my note, as will become more evident below.\\n\\n\\nblechhh.  I think you are misreading me, rather seriously.  Though,\\ngiven my principle that one CANNOT force one\\'s own notion of \"sin\" on\\nanother, and my unshakeable \"disestablishmentarianism\", Russel Turpin\\nand others (believers and unbelievers alike) are under no threat of my\\nlegislating my own understanding of Christian love.\\n\\n\\nYou misread.  I can do (and have repeatedly done) a complete bill of\\naccusation against the Inquisition by exhibiting in as thorough a form\\nas anyone might want a demonstration of the harm it has done to human\\nbeings (in the first place) and to respect for (let alone love of) \"God\"\\nin near succession.  Please go back to my quoted words above:\\n\\nThe \"possibility that always exists\" is that I (or, to revert to proper\\ntime sequence, my predecessors over the last several centuries) could\\npersuade \"Christian B\" of my case that the Inquisition *does* indeed\\nconstitute an egregious violation of the Law of Love.  I must also note\\nthat the majority of Christians HAVE been so persuaded.  By Christian\\nargumentation, as well as by secular [both Christian and non-Christian]\\nprohibitions.\\n\\nWhat Mr. Turpin alludes to is a trickier point:\\n\\n\\tA.  I demonstrate the human pain and violation of love involved\\n\\t    in the Inquisition.\\n\\n\\tB.  The Inquisitor responds that Mother Church must, however\\n\\t    painful this *seems*, \"discipline\" her children for their\\n\\t    own good -- in this case the salvation of their souls (or\\n\\t    if the tortured heretic will not recant, than by bad example\\n\\t    \"deterring\" others from the same loss-of-soul.)\\n\\n\\tA.  I point out that this \"justification\" of a failure in love\\n\\t    depends on a highly speculative construal of texts and of\\n\\t    philosophical assertions that are quite undemonstrable.\\n\\n\\tB.  Burns me at the stake.\\n\\nMy rhetoric has failed, but the point I am making is sustained.  What is\\ngoing on here has a *lot* to do with \"cultural baggage.\"  In this case,\\nthe baggage includes a (nearly universal, and absolutely secular) belief\\nthat an accused person must prove innocence and that testimony is most\\nbelievable if taken under torture.  The elimination of Inqisitorial\\npractice (in those places where it *has* been eliminated, or at least\\ngreatly reduced) has very little, if anything, to do with the discussion\\nof sin in the exchange between A and B.\\n\\nMr. Turpin is pointing out that, if I am A versus the Grand Inquisitor\\'s B,\\nthen my persuasion is not very likely to work.  I know this; and in what-\\never personal agony, I consign the issue to God and my ghostly defense\\nattorney.  So, \"one possibility\" fails in this case -- as it will fail in\\nmay others.  At the other extreme, the \"persuasion\" will succeed when it\\nproperly SHOULD not, if it entails mistaken assumptions I share with the\\nInquisitor.  And that is potentially an even more troubling case, in that\\nmany of the victims of Inquisition will have \"accepted\" that they were in\\nfact sinful (in such random cases as they may actually have been guilty\\nof charges brought against them.)\\n\\nThe point is that the \"persuasion\" breaks down when the parties do NOT\\nshare enough to agree on all the cultural baggage -- and given the main\\nthrust of the Inquisition, against \"heresy\", it is *bound* to break down\\nin precisely the \"worst\" cases.  The \"conservative\" (I don\\'t think that\\nis the right word, BTW) will take refuge in what I attribute to B above,\\nthat he is \"justified\" in causing harm because he *thinks* that works to\\na \"greater good.\"  But this is a violent and extravagant REFUSAL to follow\\nthe gospel, as if one\\'s theories about \"sin\" entitled one to cast aside\\nJesus\\' words on dealing with sinners (cf. Matthew 5:39ff).\\n\\nI am a \"radical\" Christian *only* in that I take the gospel seriously.\\n\\n\\nWell, the whole *point* of making these the \"base\" commandments is that\\nthey *aren\\'t* reducible to rules.  A set of rules is a moral code or a\\nlaw code or an algorithm for acting.  Such things can be very helpful\\nto individuals or societies -- but not if they are used *instead* of a\\npersonal involvement in and responsibility for one\\'s actions.  The Great\\nCommandment is, more than anything else, a call to act *as if you were\\nGod and accepting ultimate responsibility* in your every action.  A\\ndemand that I, like most, would rather *not* hear, but it keeps popping\\nup nonetheless (along with the reassurance that it is more important\\nthat I be open to trying this, than succeeding at it).  \"Conservatives\"\\nmay twist this \"act as if you were God\" to mean \"lay down rules for other\\npeople and be as nasty to them as possible if they don\\'t keep YOUR rules.\"\\nThey are so insistent (and obvious) about this that they have convinced a\\nlot of people (who rightly reject the whole concept!) that such idiocy\\nIS how God acts.  That, after all, is the standard accusation \"against\\nGod\" by the atheists here and elsewhere.  That the \"conservatives\" have\\nconfused THEIR manipulative, hoop-jumping notions of coercing other\\npeople with the Nature of God is almost the entire content of standard\\nAmerican atheism -- and I quite agree with it on this point.\\n\\n\\nAnd different bodies of Christians have, from the beginning, urged\\n*different* \"ethical systems\" (or in some cases, none).  As a result,\\nit is bizarre to identify any one of these systems, however popular\\n(or infamous) with Christianity.  Christianity DOES NOT HAVE A TORAH.\\nIt does not have a QU\\'RAN.  Specifically Christian scripture has very\\nlittle, if anything, in the way of \"commandments\" -- so little that\\nthe \"Christians\" who desperately *want* commandments go \"mining\" for\\nthem with almost no support (and thus almost no obvious limitation :-))\\nfor their efforts.  The one, single, thing in the gospels which Jesus\\nspecifically \"gives\" as \"a commandment\" to us is \"love one another.\"\\n\\n\\t[I will be expanding on this point in a reply to Paul Hudson\\n\\t that I hope to get to in a day or so -- it is quite true that\\n\\t SOME Christians infer LOTS of commandments from the NT; I\\'ll\\n\\t point out what has to be going on in these inferences, and why\\n\\t there is a huge amount of \"cultural baggage\" involved.]\\n\\nYou are quite right that this is \"goo\" if one is looking for an ethical\\nsystem.\\n\\nBut why should anyone BE looking for an ethical system, since our\\nsociety is eager to hand us one or more no matter what we do?  It\\nmay be that we need a principle for the CRITIQUE of ethical systems\\n-- in which case I will profer the _agapate allelou_ once again.\\n\\n\\nI think you are begging the question. Why don\\'t I and the (myriads\\nof) other Christians like me tell you something about Christianity?\\n[Nor is this very new in Christianity -- you might want to look up\\nthe origins and fundamental doctrines of the Quakers, from the 17th\\ncentury onwards, and they are not at all the first to understand the\\ngospel in a manner that is congenial to my case.]'"
      ]
     },
     "execution_count": 70,
     "metadata": {},
     "output_type": "execute_result"
    }
   ],
   "source": [
    "newsgroups_train.data[746]"
   ]
  },
  {
   "cell_type": "code",
   "execution_count": 53,
   "metadata": {},
   "outputs": [
    {
     "data": {
      "text/plain": [
       "array([ 8591, 14706, 13905, 14154, 23927])"
      ]
     },
     "execution_count": 53,
     "metadata": {},
     "output_type": "execute_result"
    }
   ],
   "source": [
    "np.argsort(vectorizer_tfidf.idf_)[:5]"
   ]
  },
  {
   "cell_type": "code",
   "execution_count": 77,
   "metadata": {},
   "outputs": [
    {
     "name": "stdout",
     "output_type": "stream",
     "text": [
      "don\n",
      "like\n",
      "just\n",
      "know\n",
      "think\n"
     ]
    }
   ],
   "source": [
    "reverse_key = {}\n",
    "for key, value in vectorizer_tfidf.vocabulary_.items():\n",
    "    reverse_key[value] = key\n",
    "for word_id in np.argsort(vectorizer_tfidf.idf_)[:5]:\n",
    "    print (reverse_key[word_id])"
   ]
  },
  {
   "cell_type": "code",
   "execution_count": 74,
   "metadata": {},
   "outputs": [
    {
     "data": {
      "text/plain": [
       "14706"
      ]
     },
     "execution_count": 74,
     "metadata": {},
     "output_type": "execute_result"
    }
   ],
   "source": [
    "word_id_to_review = np.argsort(vectorizer_tfidf.idf_)[:5][1]\n",
    "word_id_to_review"
   ]
  },
  {
   "cell_type": "code",
   "execution_count": 75,
   "metadata": {},
   "outputs": [
    {
     "name": "stdout",
     "output_type": "stream",
     "text": [
      "0 14706 0.046643803845554874\n",
      "1 14706 0.07764856119560923\n",
      "3 14706 0.06738610255088694\n",
      "5 14706 0.056766835811944166\n",
      "6 14706 0.0395390203672734\n",
      "8 14706 0.07328892238622065\n",
      "9 14706 0.07648041797367917\n",
      "11 14706 0.05402000537456859\n",
      "13 14706 0.14912631949286906\n",
      "14 14706 0.05266926742022202\n",
      "16 14706 0.01636521415981106\n",
      "17 14706 0.12388912053325497\n",
      "18 14706 0.10922351848885939\n",
      "23 14706 0.014409194085636037\n",
      "33 14706 0.030327474421354653\n",
      "39 14706 0.044282748562448106\n",
      "41 14706 0.03554206913208134\n",
      "42 14706 0.10638233860222919\n",
      "52 14706 0.009110339761786249\n",
      "55 14706 0.04156449811094116\n",
      "72 14706 0.10025728632064736\n",
      "78 14706 0.08575693037677251\n",
      "82 14706 0.017853524086736027\n",
      "88 14706 0.06424280124365672\n",
      "90 14706 0.038790884078079506\n",
      "95 14706 0.03670631062739414\n",
      "100 14706 0.0696718031585248\n",
      "106 14706 0.03476101514567444\n",
      "107 14706 0.06076603354193711\n",
      "119 14706 0.019194402452927112\n",
      "123 14706 0.04856595001077073\n",
      "129 14706 0.06491117814778462\n",
      "131 14706 0.004797379656969984\n",
      "148 14706 0.0777282856437142\n",
      "151 14706 0.046940114161376334\n",
      "153 14706 0.062099107651434116\n",
      "154 14706 0.05465263620022089\n",
      "158 14706 0.059583229781057526\n",
      "164 14706 0.1469509547664072\n",
      "166 14706 0.019544868855566108\n",
      "167 14706 0.02632175665438788\n",
      "182 14706 0.11203842043977266\n",
      "187 14706 0.03514623199459499\n",
      "189 14706 0.04225803772819479\n",
      "205 14706 0.03832310913951178\n",
      "207 14706 0.09295266175940299\n",
      "212 14706 0.06595940252000475\n",
      "215 14706 0.03674576881099535\n",
      "217 14706 0.14151747536810322\n",
      "218 14706 0.03424956576069573\n",
      "220 14706 0.06940270879644461\n",
      "221 14706 0.1451412555147769\n",
      "231 14706 0.05699914040142535\n",
      "232 14706 0.06754824823687736\n",
      "243 14706 0.07364509950873782\n",
      "250 14706 0.05182858360133899\n",
      "252 14706 0.027668746783904165\n",
      "256 14706 0.051163321640843695\n",
      "260 14706 0.06521087265111547\n",
      "265 14706 0.056897989867531626\n",
      "266 14706 0.08065968715281918\n",
      "272 14706 0.018434857535981737\n",
      "273 14706 0.03346807852626894\n",
      "275 14706 0.08622415228695925\n",
      "277 14706 0.05409564565097444\n",
      "280 14706 0.1361167832469068\n",
      "283 14706 0.08778275117993055\n",
      "285 14706 0.04316513075160113\n",
      "286 14706 0.11394875253530484\n",
      "293 14706 0.10873501772383727\n",
      "296 14706 0.038729454562956775\n",
      "298 14706 0.08770910022413922\n",
      "308 14706 0.10050031422250076\n",
      "309 14706 0.06982941766879235\n",
      "313 14706 0.05211561458157607\n",
      "321 14706 0.056869764718540425\n",
      "322 14706 0.05686617589368551\n",
      "329 14706 0.0414582867207035\n",
      "349 14706 0.06765227433865603\n",
      "351 14706 0.07514686158632493\n",
      "360 14706 0.10901809829828386\n",
      "367 14706 0.050306032916051666\n",
      "373 14706 0.10319033047870914\n",
      "376 14706 0.034752945138235555\n",
      "381 14706 0.0778039357940134\n",
      "382 14706 0.1669492341888445\n",
      "387 14706 0.059381967698934654\n",
      "392 14706 0.03183927189262768\n",
      "407 14706 0.025084745986019966\n",
      "412 14706 0.04106384857477715\n",
      "416 14706 0.04957044574511559\n",
      "417 14706 0.09221430653796754\n",
      "421 14706 0.10719502426085487\n",
      "422 14706 0.043223139308374216\n",
      "423 14706 0.022394330603841706\n",
      "426 14706 0.023322218809158215\n",
      "435 14706 0.06807761850354176\n",
      "438 14706 0.08374684422836748\n",
      "447 14706 0.14033770234154427\n",
      "449 14706 0.13700027622026045\n",
      "454 14706 0.041347520635387075\n",
      "458 14706 0.05043438273662064\n",
      "463 14706 0.009783704311542425\n",
      "467 14706 0.08947650805137562\n",
      "472 14706 0.04332027768886803\n",
      "474 14706 0.03367762931883434\n",
      "481 14706 0.008787208224157456\n",
      "485 14706 0.03299521311880881\n",
      "490 14706 0.04045848586156287\n",
      "502 14706 0.030019767891519795\n",
      "503 14706 0.05525129470283424\n",
      "509 14706 0.04945733710102612\n",
      "514 14706 0.03209101482723285\n",
      "518 14706 0.03539783726267864\n",
      "520 14706 0.02491580701204508\n",
      "521 14706 0.04965221860072856\n",
      "528 14706 0.10942595717370288\n",
      "535 14706 0.05616572153440309\n",
      "543 14706 0.056794609648034365\n",
      "546 14706 0.042084855860088595\n",
      "547 14706 0.03111551409908247\n",
      "552 14706 0.02338801278560488\n",
      "555 14706 0.03811587032421293\n",
      "557 14706 0.01645561533235878\n",
      "558 14706 0.025210542677107685\n",
      "559 14706 0.06372926986296366\n",
      "560 14706 0.020429546392915835\n",
      "561 14706 0.02602047627312275\n",
      "563 14706 0.05956013725300702\n",
      "566 14706 0.011766469341751035\n",
      "569 14706 0.01452676415355751\n",
      "571 14706 0.06203690527361983\n",
      "575 14706 0.06483306947973196\n",
      "582 14706 0.043998084088642794\n",
      "583 14706 0.08853477125358789\n",
      "585 14706 0.04781125784673547\n",
      "587 14706 0.1271823269396033\n",
      "594 14706 0.05684494203515523\n",
      "601 14706 0.13233060084680842\n",
      "602 14706 0.08028765061784891\n",
      "608 14706 0.04437192536766577\n",
      "610 14706 0.05978563972490757\n",
      "618 14706 0.07819086920285014\n",
      "623 14706 0.0699471583014937\n",
      "625 14706 0.0520217166156566\n",
      "631 14706 0.04719139103768636\n",
      "634 14706 0.07732086206188422\n",
      "637 14706 0.051268528739619276\n",
      "638 14706 0.021640073639549458\n",
      "641 14706 0.018775579612952967\n",
      "647 14706 0.11949707772483145\n",
      "652 14706 0.048828111885857145\n",
      "656 14706 0.2183611247567024\n",
      "659 14706 0.05017465400801693\n",
      "661 14706 0.11667976499614241\n",
      "665 14706 0.04511208180652057\n",
      "677 14706 0.02630081834623704\n",
      "680 14706 0.06205186037116931\n",
      "682 14706 0.031087762223623916\n",
      "685 14706 0.025656400829885767\n",
      "731 14706 0.08812632647912808\n",
      "733 14706 0.08290280041397202\n",
      "741 14706 0.05867361968096423\n",
      "746 14706 0.028883724786107717\n",
      "753 14706 0.04571504413159308\n",
      "757 14706 0.05740892767914776\n",
      "759 14706 0.07399905829769252\n",
      "762 14706 0.050005776999863596\n",
      "767 14706 0.043170283132760265\n",
      "768 14706 0.023155780116619624\n",
      "769 14706 0.02271376554049935\n",
      "781 14706 0.03953198699909038\n",
      "784 14706 0.011380226366430815\n",
      "785 14706 0.10194521155908487\n",
      "789 14706 0.08981592974626045\n",
      "792 14706 0.041197719234495056\n",
      "796 14706 0.1181345658836855\n",
      "798 14706 0.03479489525877331\n",
      "799 14706 0.04534542834102208\n",
      "803 14706 0.1306679200895362\n",
      "805 14706 0.04624655560490091\n",
      "819 14706 0.07710682738009401\n",
      "828 14706 0.030224173965264306\n",
      "830 14706 0.11686705614728901\n",
      "832 14706 0.10128260392198914\n",
      "839 14706 0.004554407848030606\n",
      "842 14706 0.06332416487214185\n",
      "852 14706 0.1803304295209922\n",
      "859 14706 0.02047466972476286\n",
      "861 14706 0.06737531233681625\n",
      "865 14706 0.13177203015142935\n",
      "874 14706 0.033770447254692776\n",
      "875 14706 0.015137996055568976\n",
      "877 14706 0.09095204918286283\n",
      "878 14706 0.07451288454356461\n",
      "888 14706 0.027408430860557016\n",
      "889 14706 0.07208818921703228\n",
      "890 14706 0.04114828297609541\n",
      "893 14706 0.0070922689294041575\n",
      "894 14706 0.06414124646334995\n",
      "895 14706 0.09253757361650748\n",
      "898 14706 0.11913238335877972\n",
      "900 14706 0.04932801361365337\n",
      "902 14706 0.18693767568045386\n",
      "903 14706 0.08123999079536602\n",
      "906 14706 0.020742260617864793\n",
      "907 14706 0.05176677423959659\n",
      "916 14706 0.0072755525004337875\n",
      "929 14706 0.035479451327625575\n",
      "937 14706 0.08788113658888563\n",
      "938 14706 0.22469830373340935\n",
      "948 14706 0.11184688582604563\n",
      "955 14706 0.043245108849169864\n",
      "956 14706 0.03841429347689853\n",
      "957 14706 0.036565388259281385\n",
      "966 14706 0.051109311145271785\n",
      "968 14706 0.07074747809628741\n",
      "971 14706 0.014583890811106922\n",
      "973 14706 0.08810103035230052\n",
      "974 14706 0.0719937700249204\n",
      "981 14706 0.11668233033138281\n",
      "983 14706 0.056245265630057086\n",
      "987 14706 0.01281414463284031\n",
      "992 14706 0.03021434850839074\n",
      "994 14706 0.1598394971410365\n",
      "999 14706 0.052470074186525974\n",
      "1000 14706 0.07098148969090257\n",
      "1001 14706 0.0802500120108066\n",
      "1002 14706 0.03519793134437899\n",
      "1005 14706 0.1154023185982928\n",
      "1012 14706 0.03685512364659265\n",
      "1015 14706 0.06544052990642768\n",
      "1026 14706 0.024869102325871296\n",
      "1028 14706 0.0749071407268472\n",
      "1031 14706 0.0377123944255063\n",
      "1038 14706 0.08767143925590137\n",
      "1039 14706 0.01634684268872285\n",
      "1041 14706 0.03280896657001752\n",
      "1042 14706 0.0638043113127686\n",
      "1047 14706 0.05598408860976989\n",
      "1049 14706 0.1991656030126052\n",
      "1050 14706 0.04589253109746233\n",
      "1054 14706 0.1178075474991862\n",
      "1062 14706 0.12362490859983453\n",
      "1063 14706 0.06357598256631086\n",
      "1065 14706 0.14032390515288434\n",
      "1069 14706 0.08185657742380244\n",
      "1073 14706 0.0087479751999641\n",
      "1074 14706 0.06452359441141754\n",
      "1088 14706 0.0634150812990132\n",
      "1092 14706 0.04995545204441644\n",
      "1094 14706 0.12674984761032843\n",
      "1095 14706 0.0051128266222535725\n",
      "1097 14706 0.05616474741612885\n",
      "1106 14706 0.1391249564802898\n",
      "1112 14706 0.07267824395772007\n",
      "1122 14706 0.04962390415575244\n",
      "1125 14706 0.04204422707638694\n",
      "1132 14706 0.02896978468504477\n",
      "1134 14706 0.05351739730007466\n",
      "1135 14706 0.04779794714323829\n",
      "1139 14706 0.0769769704391987\n",
      "1145 14706 0.10352386953481475\n",
      "1147 14706 0.06859847418314449\n",
      "1163 14706 0.03638701990479496\n",
      "1178 14706 0.0814488026443589\n",
      "1180 14706 0.03272777266841997\n",
      "1184 14706 0.15727278682764625\n",
      "1191 14706 0.09276580508990827\n",
      "1195 14706 0.12085678301581845\n",
      "1202 14706 0.08165604443651954\n",
      "1206 14706 0.05899342585137917\n",
      "1207 14706 0.03293791690214983\n",
      "1218 14706 0.116743672871174\n",
      "1220 14706 0.04120022787182087\n",
      "1227 14706 0.032184187220906615\n",
      "1231 14706 0.07196152686487453\n",
      "1238 14706 0.06118603100733606\n",
      "1242 14706 0.06934066286858977\n",
      "1247 14706 0.09005957259606993\n",
      "1254 14706 0.121203508509586\n",
      "1268 14706 0.08734246030082074\n",
      "1276 14706 0.04234992814587883\n",
      "1280 14706 0.029442878420620818\n",
      "1282 14706 0.03894153186660334\n",
      "1286 14706 0.0990943053333256\n",
      "1289 14706 0.053081393958692345\n",
      "1291 14706 0.049802293294425544\n",
      "1296 14706 0.08040348223910829\n",
      "1298 14706 0.06935454771659284\n",
      "1299 14706 0.050978216233701815\n",
      "1310 14706 0.03918463237475698\n",
      "1315 14706 0.04565770796724812\n",
      "1316 14706 0.12193930660874454\n",
      "1318 14706 0.02789587930060715\n",
      "1321 14706 0.04977547258956028\n",
      "1322 14706 0.06650938551307739\n",
      "1325 14706 0.023475549063386683\n",
      "1330 14706 0.1214129086097023\n",
      "1332 14706 0.028523200744687716\n",
      "1333 14706 0.11227980215397144\n",
      "1336 14706 0.023545726100776012\n",
      "1341 14706 0.0452405471844324\n",
      "1342 14706 0.12170947153306032\n",
      "1355 14706 0.043658626249796294\n",
      "1367 14706 0.07331937272699036\n",
      "1378 14706 0.04107247921073877\n",
      "1384 14706 0.0971459962387006\n",
      "1390 14706 0.06525929304031503\n",
      "1395 14706 0.05900031858610471\n",
      "1401 14706 0.02693875856838224\n",
      "1402 14706 0.18178803585740086\n",
      "1407 14706 0.04873688838106878\n",
      "1412 14706 0.10259940468893648\n",
      "1417 14706 0.06068985134070971\n",
      "1418 14706 0.06979542017315889\n",
      "1422 14706 0.05885979154427425\n",
      "1428 14706 0.09715545127976537\n",
      "1432 14706 0.07233586167007455\n",
      "1433 14706 0.03422829958947829\n",
      "1435 14706 0.08855869715174479\n",
      "1436 14706 0.045492503730847025\n",
      "1444 14706 0.024252223645984092\n",
      "1448 14706 0.016731100631531767\n",
      "1457 14706 0.04130627995880121\n",
      "1460 14706 0.11406330896120233\n",
      "1463 14706 0.030542128248782573\n",
      "1474 14706 0.08995095240223065\n",
      "1481 14706 0.023253521607860553\n",
      "1490 14706 0.07360493317630659\n",
      "1493 14706 0.0933303676175111\n",
      "1494 14706 0.172016422399184\n",
      "1496 14706 0.026427914215557607\n",
      "1500 14706 0.039343432432458705\n",
      "1520 14706 0.04588852743552649\n",
      "1527 14706 0.007896497970204504\n",
      "1529 14706 0.03770380327624232\n",
      "1536 14706 0.0657368444162602\n",
      "1548 14706 0.049816947058711133\n",
      "1549 14706 0.07469407907060346\n",
      "1561 14706 0.04653424396824809\n",
      "1568 14706 0.004752311153676844\n",
      "1572 14706 0.02864020888307212\n",
      "1578 14706 0.013309644851796292\n",
      "1580 14706 0.0689398338645199\n",
      "1585 14706 0.09129094131564759\n",
      "1590 14706 0.017201698629882408\n",
      "1592 14706 0.049615833722650576\n",
      "1598 14706 0.043662275074762176\n",
      "1604 14706 0.04643280859870791\n",
      "1612 14706 0.08290514520506857\n",
      "1619 14706 0.006564061515773107\n",
      "1621 14706 0.03907640500764062\n",
      "1623 14706 0.04707854671272215\n",
      "1628 14706 0.10668764890130711\n",
      "1631 14706 0.1207445451479786\n",
      "1636 14706 0.050349256220472566\n",
      "1637 14706 0.03872556349152286\n",
      "1639 14706 0.06301707060730563\n",
      "1640 14706 0.024117462844117064\n",
      "1642 14706 0.023575248659344683\n",
      "1661 14706 0.01194234479612486\n",
      "1665 14706 0.13075294515118333\n",
      "1676 14706 0.032859292146134936\n",
      "1681 14706 0.0433527461253406\n",
      "1684 14706 0.12564561055965112\n",
      "1687 14706 0.03860192454654022\n",
      "1690 14706 0.010622090352133653\n",
      "1693 14706 0.08412016024533028\n",
      "1697 14706 0.04433053435117569\n",
      "1702 14706 0.05611652828853606\n",
      "1703 14706 0.07044518002328944\n",
      "1704 14706 0.03919942338238249\n",
      "1706 14706 0.11136363787254631\n",
      "1714 14706 0.040651874224159064\n",
      "1723 14706 0.02585793613719291\n",
      "1730 14706 0.06701003367973628\n",
      "1732 14706 0.14027433537918188\n",
      "1733 14706 0.019574854834087423\n",
      "1743 14706 0.05977660912006766\n",
      "1746 14706 0.009322228676248049\n",
      "1764 14706 0.10048689470199342\n",
      "1770 14706 0.0628832588039914\n",
      "1771 14706 0.06800188421562613\n",
      "1777 14706 0.03906146437837964\n",
      "1779 14706 0.008727059805035823\n",
      "1786 14706 0.10591135017065574\n",
      "1792 14706 0.014168843145627965\n",
      "1798 14706 0.03259591692133151\n",
      "1799 14706 0.012614851969142157\n",
      "1803 14706 0.013940181921079398\n",
      "1816 14706 0.11927715993782737\n",
      "1821 14706 0.03286676002185183\n",
      "1824 14706 0.06258510772008143\n",
      "1825 14706 0.09960238675215158\n",
      "1836 14706 0.14627122868224215\n",
      "1843 14706 0.19157412985401762\n",
      "1855 14706 0.023821207590619294\n",
      "1857 14706 0.11192409683313631\n",
      "1860 14706 0.02784994081660025\n",
      "1862 14706 0.04406388821193783\n",
      "1869 14706 0.20354500072775006\n",
      "1870 14706 0.03434680816149043\n",
      "1873 14706 0.04613131423073373\n",
      "1879 14706 0.03637398377738558\n",
      "1882 14706 0.01908955781697151\n",
      "1883 14706 0.022310545951702544\n",
      "1897 14706 0.0626710917817728\n",
      "1903 14706 0.09828359170235358\n",
      "1904 14706 0.013232616843344026\n",
      "1906 14706 0.046339075381512024\n",
      "1918 14706 0.1466511633987385\n",
      "1920 14706 0.07078760071472316\n",
      "1923 14706 0.10857335745051813\n",
      "1924 14706 0.022967200664515717\n",
      "1926 14706 0.01373328569746662\n",
      "1931 14706 0.0824369815681509\n"
     ]
    },
    {
     "name": "stdout",
     "output_type": "stream",
     "text": [
      "1944 14706 0.12700575215431004\n",
      "1950 14706 0.05782506498576146\n",
      "1964 14706 0.05276497970482318\n",
      "1972 14706 0.029392537708145875\n",
      "1975 14706 0.03660314529378269\n",
      "1987 14706 0.060783303409795326\n",
      "1988 14706 0.012198315222441086\n",
      "1992 14706 0.10234501882881485\n",
      "1993 14706 0.022960721261637018\n",
      "1994 14706 0.04689352912446415\n",
      "2002 14706 0.023280277981438984\n",
      "2003 14706 0.06888432776588563\n",
      "2008 14706 0.06923702463534868\n",
      "2010 14706 0.01737109245222705\n",
      "2011 14706 0.009638833561243914\n",
      "2018 14706 0.10539791856194394\n",
      "2020 14706 0.0476326026347598\n",
      "2021 14706 0.0696109992662231\n",
      "2023 14706 0.15537138822166874\n",
      "2028 14706 0.041605357493379076\n",
      "2032 14706 0.03711866463525761\n"
     ]
    }
   ],
   "source": [
    "### Let's look at 6692\n",
    "cx = vectors_tfidf.tocoo()    \n",
    "for i,j,v in zip(cx.row, cx.col, cx.data):\n",
    "    if j == word_id_to_review:\n",
    "        print (i,j,v)"
   ]
  },
  {
   "cell_type": "markdown",
   "metadata": {},
   "source": [
    "_As can be seen, the words with low _idf values are common words. Those words are found in a lot of documents._"
   ]
  },
  {
   "cell_type": "code",
   "execution_count": null,
   "metadata": {},
   "outputs": [],
   "source": []
  }
 ],
 "metadata": {
  "kernelspec": {
   "display_name": "Python 3",
   "language": "python",
   "name": "python3"
  },
  "language_info": {
   "codemirror_mode": {
    "name": "ipython",
    "version": 3
   },
   "file_extension": ".py",
   "mimetype": "text/x-python",
   "name": "python",
   "nbconvert_exporter": "python",
   "pygments_lexer": "ipython3",
   "version": "3.7.5"
  }
 },
 "nbformat": 4,
 "nbformat_minor": 4
}
